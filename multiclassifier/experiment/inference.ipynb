{
 "cells": [
  {
   "cell_type": "code",
   "execution_count": 10,
   "id": "9af99b06-4a9a-437f-9001-a09a25f6912f",
   "metadata": {
    "slideshow": {
     "slide_type": "slide"
    }
   },
   "outputs": [],
   "source": [
    "from fastai.vision.all import *\n",
    "from py_files.ensemble import ensemble_np, ensemble, ranks_np\n",
    "from sklearn.metrics import confusion_matrix, classification_report\n",
    "from patchify import patchify\n",
    "from tqdm.notebook import tqdm\n",
    "import skfuzzy as sk"
   ]
  },
  {
   "cell_type": "code",
   "execution_count": 2,
   "id": "4ce792ef",
   "metadata": {},
   "outputs": [],
   "source": [
    "file_path = '...\\\\Training\\\\'"
   ]
  },
  {
   "cell_type": "code",
   "execution_count": 3,
   "id": "62b08ae6",
   "metadata": {},
   "outputs": [],
   "source": [
    "def get_dls():\n",
    "    dblock = DataBlock(blocks=(ImageBlock, CategoryBlock),\n",
    "                      get_items=get_image_files,\n",
    "                      item_tfms=Resize(64), \n",
    "                      get_y=parent_label, \n",
    "                      splitter=RandomSplitter(seed=0))\n",
    "    return dblock.dataloaders(file_path, bs=8, num_workers=0)"
   ]
  },
  {
   "cell_type": "code",
   "execution_count": 4,
   "id": "28130fa4",
   "metadata": {},
   "outputs": [],
   "source": [
    "dls = get_dls()"
   ]
  },
  {
   "cell_type": "code",
   "execution_count": 5,
   "id": "d431e311-dd71-41d2-93db-7b41d4565c58",
   "metadata": {},
   "outputs": [],
   "source": [
    "learn1 = load_learner('...\\\\resnet.pkl')\n",
    "learn2 = load_learner('...\\\\densenet.pkl')\n",
    "learn3 = load_learner('...\\\\vgg.pkl')\n",
    "learn4 = load_learner('...\\\\mobile.pkl')\n",
    "learn5 = load_learner('...\\\\efficientnet.pkl')\n",
    "learn6 = load_learner('...\\\\squeeze.pkl')"
   ]
  },
  {
   "cell_type": "code",
   "execution_count": 6,
   "id": "299750ff",
   "metadata": {},
   "outputs": [
    {
     "data": {
      "text/html": [
       "\n",
       "<style>\n",
       "    /* Turns off some styling */\n",
       "    progress {\n",
       "        /* gets rid of default border in Firefox and Opera. */\n",
       "        border: none;\n",
       "        /* Needs to be in here for Safari polyfill so background images work as expected. */\n",
       "        background-size: auto;\n",
       "    }\n",
       "    progress:not([value]), progress:not([value])::-webkit-progress-bar {\n",
       "        background: repeating-linear-gradient(45deg, #7e7e7e, #7e7e7e 10px, #5c5c5c 10px, #5c5c5c 20px);\n",
       "    }\n",
       "    .progress-bar-interrupted, .progress-bar-interrupted::-webkit-progress-bar {\n",
       "        background: #F44336;\n",
       "    }\n",
       "</style>\n"
      ],
      "text/plain": [
       "<IPython.core.display.HTML object>"
      ]
     },
     "metadata": {},
     "output_type": "display_data"
    },
    {
     "data": {
      "text/html": [],
      "text/plain": [
       "<IPython.core.display.HTML object>"
      ]
     },
     "metadata": {},
     "output_type": "display_data"
    },
    {
     "data": {
      "text/html": [
       "\n",
       "<style>\n",
       "    /* Turns off some styling */\n",
       "    progress {\n",
       "        /* gets rid of default border in Firefox and Opera. */\n",
       "        border: none;\n",
       "        /* Needs to be in here for Safari polyfill so background images work as expected. */\n",
       "        background-size: auto;\n",
       "    }\n",
       "    progress:not([value]), progress:not([value])::-webkit-progress-bar {\n",
       "        background: repeating-linear-gradient(45deg, #7e7e7e, #7e7e7e 10px, #5c5c5c 10px, #5c5c5c 20px);\n",
       "    }\n",
       "    .progress-bar-interrupted, .progress-bar-interrupted::-webkit-progress-bar {\n",
       "        background: #F44336;\n",
       "    }\n",
       "</style>\n"
      ],
      "text/plain": [
       "<IPython.core.display.HTML object>"
      ]
     },
     "metadata": {},
     "output_type": "display_data"
    },
    {
     "data": {
      "text/html": [],
      "text/plain": [
       "<IPython.core.display.HTML object>"
      ]
     },
     "metadata": {},
     "output_type": "display_data"
    },
    {
     "data": {
      "text/html": [
       "\n",
       "<style>\n",
       "    /* Turns off some styling */\n",
       "    progress {\n",
       "        /* gets rid of default border in Firefox and Opera. */\n",
       "        border: none;\n",
       "        /* Needs to be in here for Safari polyfill so background images work as expected. */\n",
       "        background-size: auto;\n",
       "    }\n",
       "    progress:not([value]), progress:not([value])::-webkit-progress-bar {\n",
       "        background: repeating-linear-gradient(45deg, #7e7e7e, #7e7e7e 10px, #5c5c5c 10px, #5c5c5c 20px);\n",
       "    }\n",
       "    .progress-bar-interrupted, .progress-bar-interrupted::-webkit-progress-bar {\n",
       "        background: #F44336;\n",
       "    }\n",
       "</style>\n"
      ],
      "text/plain": [
       "<IPython.core.display.HTML object>"
      ]
     },
     "metadata": {},
     "output_type": "display_data"
    },
    {
     "data": {
      "text/html": [],
      "text/plain": [
       "<IPython.core.display.HTML object>"
      ]
     },
     "metadata": {},
     "output_type": "display_data"
    },
    {
     "data": {
      "text/html": [
       "\n",
       "<style>\n",
       "    /* Turns off some styling */\n",
       "    progress {\n",
       "        /* gets rid of default border in Firefox and Opera. */\n",
       "        border: none;\n",
       "        /* Needs to be in here for Safari polyfill so background images work as expected. */\n",
       "        background-size: auto;\n",
       "    }\n",
       "    progress:not([value]), progress:not([value])::-webkit-progress-bar {\n",
       "        background: repeating-linear-gradient(45deg, #7e7e7e, #7e7e7e 10px, #5c5c5c 10px, #5c5c5c 20px);\n",
       "    }\n",
       "    .progress-bar-interrupted, .progress-bar-interrupted::-webkit-progress-bar {\n",
       "        background: #F44336;\n",
       "    }\n",
       "</style>\n"
      ],
      "text/plain": [
       "<IPython.core.display.HTML object>"
      ]
     },
     "metadata": {},
     "output_type": "display_data"
    },
    {
     "data": {
      "text/html": [],
      "text/plain": [
       "<IPython.core.display.HTML object>"
      ]
     },
     "metadata": {},
     "output_type": "display_data"
    },
    {
     "data": {
      "text/html": [
       "\n",
       "<style>\n",
       "    /* Turns off some styling */\n",
       "    progress {\n",
       "        /* gets rid of default border in Firefox and Opera. */\n",
       "        border: none;\n",
       "        /* Needs to be in here for Safari polyfill so background images work as expected. */\n",
       "        background-size: auto;\n",
       "    }\n",
       "    progress:not([value]), progress:not([value])::-webkit-progress-bar {\n",
       "        background: repeating-linear-gradient(45deg, #7e7e7e, #7e7e7e 10px, #5c5c5c 10px, #5c5c5c 20px);\n",
       "    }\n",
       "    .progress-bar-interrupted, .progress-bar-interrupted::-webkit-progress-bar {\n",
       "        background: #F44336;\n",
       "    }\n",
       "</style>\n"
      ],
      "text/plain": [
       "<IPython.core.display.HTML object>"
      ]
     },
     "metadata": {},
     "output_type": "display_data"
    },
    {
     "data": {
      "text/html": [],
      "text/plain": [
       "<IPython.core.display.HTML object>"
      ]
     },
     "metadata": {},
     "output_type": "display_data"
    },
    {
     "data": {
      "text/html": [
       "\n",
       "<style>\n",
       "    /* Turns off some styling */\n",
       "    progress {\n",
       "        /* gets rid of default border in Firefox and Opera. */\n",
       "        border: none;\n",
       "        /* Needs to be in here for Safari polyfill so background images work as expected. */\n",
       "        background-size: auto;\n",
       "    }\n",
       "    progress:not([value]), progress:not([value])::-webkit-progress-bar {\n",
       "        background: repeating-linear-gradient(45deg, #7e7e7e, #7e7e7e 10px, #5c5c5c 10px, #5c5c5c 20px);\n",
       "    }\n",
       "    .progress-bar-interrupted, .progress-bar-interrupted::-webkit-progress-bar {\n",
       "        background: #F44336;\n",
       "    }\n",
       "</style>\n"
      ],
      "text/plain": [
       "<IPython.core.display.HTML object>"
      ]
     },
     "metadata": {},
     "output_type": "display_data"
    },
    {
     "data": {
      "text/html": [],
      "text/plain": [
       "<IPython.core.display.HTML object>"
      ]
     },
     "metadata": {},
     "output_type": "display_data"
    }
   ],
   "source": [
    "pred1, targ1 = learn1.get_preds(dl=learn1.dls.test_dl(dls.valid.items, with_labels=True))\n",
    "pred2, targ2 = learn2.get_preds(dl=learn2.dls.test_dl(dls.valid.items, with_labels=True))\n",
    "pred3, targ3 = learn3.get_preds(dl=learn3.dls.test_dl(dls.valid.items, with_labels=True))\n",
    "pred4, targ4 = learn4.get_preds(dl=learn4.dls.test_dl(dls.valid.items, with_labels=True))\n",
    "pred5, targ5 = learn5.get_preds(dl=learn5.dls.test_dl(dls.valid.items, with_labels=True))\n",
    "pred6, targ6 = learn6.get_preds(dl=learn6.dls.test_dl(dls.valid.items, with_labels=True))"
   ]
  },
  {
   "cell_type": "code",
   "execution_count": 7,
   "id": "9cc72782",
   "metadata": {},
   "outputs": [],
   "source": [
    "f1 = CohenKappa()\n",
    "f2 = F1Score(average='macro')"
   ]
  },
  {
   "cell_type": "code",
   "execution_count": 8,
   "id": "6945d4b1",
   "metadata": {},
   "outputs": [
    {
     "data": {
      "text/plain": [
       "[TensorBase(0.9140),\n",
       " TensorBase(0.9554),\n",
       " TensorBase(0.9236),\n",
       " TensorBase(0.8185),\n",
       " TensorBase(0.7102),\n",
       " TensorBase(0.9459)]"
      ]
     },
     "execution_count": 8,
     "metadata": {},
     "output_type": "execute_result"
    }
   ],
   "source": [
    "acc_list = [accuracy(pred1, targ1, ), accuracy(pred2, targ1), accuracy(pred3, targ1),\n",
    "            accuracy(pred4, targ1), accuracy(pred5, targ1), accuracy(pred6, targ1)]\n",
    "acc_list"
   ]
  },
  {
   "cell_type": "code",
   "execution_count": 9,
   "id": "f3b2339e",
   "metadata": {},
   "outputs": [
    {
     "name": "stderr",
     "output_type": "stream",
     "text": [
      "100%|███████████████████████████████████████████████████████████████████████████████| 314/314 [00:00<00:00, 402.95it/s]\n"
     ]
    }
   ],
   "source": [
    "p = [pred1, pred2, pred3, pred4, pred5, pred6]\n",
    "a = acc_list\n",
    "en = ensemble_np(p, a, alpha=1)\n",
    "\n",
    "en = torch.from_numpy(en)"
   ]
  },
  {
   "cell_type": "code",
   "execution_count": 15,
   "id": "e4ac7d2d",
   "metadata": {},
   "outputs": [
    {
     "data": {
      "text/plain": [
       "(array([0.50003517, 0.5000784 , 0.5001993 , 0.5003258 , 0.5004522 ,\n",
       "        0.50108194, 0.50780445, 0.5086478 , 0.87274987], dtype=float32),\n",
       " TensorBase([3.9861e-04, 6.5162e-04, 1.5675e-04, 2.1639e-03, 9.0440e-04,\n",
       "             7.0358e-05, 1.7297e-02, 9.6275e-01, 1.5610e-02]),\n",
       " TensorBase([3.0519e-06, 2.9535e-07, 5.2097e-06, 1.7844e-06, 3.0253e-06,\n",
       "             1.4565e-06, 1.0393e-05, 9.9996e-01, 1.2641e-05]))"
      ]
     },
     "execution_count": 15,
     "metadata": {},
     "output_type": "execute_result"
    }
   ],
   "source": [
    "rnk = ranks_np(pred1)\n",
    "np.unique(rnk[0]), pred1[0], pred2[0]"
   ]
  },
  {
   "cell_type": "code",
   "execution_count": 11,
   "id": "62b41f51",
   "metadata": {},
   "outputs": [
    {
     "data": {
      "text/plain": [
       "TensorBase(0.9713)"
      ]
     },
     "execution_count": 11,
     "metadata": {},
     "output_type": "execute_result"
    }
   ],
   "source": [
    "accuracy(en, targ1)"
   ]
  },
  {
   "cell_type": "code",
   "execution_count": 12,
   "id": "503dae33",
   "metadata": {},
   "outputs": [],
   "source": [
    "#def print_rep(x):\n",
    "#    with pd.ExcelWriter('E:\\\\Codes\\\\Notebooks_pyfiles\\\\Files\\\\class_rep_new.xlsx') as writer:  \n",
    "#        for i, j in zip(x, ['Resnet', 'Desnet', 'Vgg', 'Mobile', 'Efficient', 'Squeeze', 'Proposed']):\n",
    "#            a = classification_report(targ1, i.argmax(dim=1).numpy(), target_names=list(dls.vocab), output_dict=True)\n",
    "#            p = pd.DataFrame(a)\n",
    "#            p = p.transpose()\n",
    "#            p.to_excel(writer, sheet_name=j)\n",
    "    "
   ]
  },
  {
   "cell_type": "code",
   "execution_count": 13,
   "id": "23fa8fa7",
   "metadata": {},
   "outputs": [],
   "source": [
    "#p.append(en)"
   ]
  },
  {
   "cell_type": "code",
   "execution_count": 14,
   "id": "89a3ee32",
   "metadata": {},
   "outputs": [],
   "source": [
    "#print_rep(p)"
   ]
  },
  {
   "cell_type": "code",
   "execution_count": 15,
   "id": "87a83742",
   "metadata": {},
   "outputs": [
    {
     "data": {
      "text/plain": [
       "array([[28,  0,  0,  0,  0,  0,  0,  0,  0],\n",
       "       [ 0, 31,  0,  0,  0,  0,  0,  0,  0],\n",
       "       [ 0,  0, 30,  0,  0,  0,  0,  0,  0],\n",
       "       [ 0,  0,  0, 35,  0,  0,  0,  0,  0],\n",
       "       [ 0,  0,  0,  2, 17,  0,  0,  0,  0],\n",
       "       [ 0,  0,  1,  1,  0, 41,  0,  0,  0],\n",
       "       [ 0,  0,  0,  0,  0,  0, 67,  2,  1],\n",
       "       [ 0,  1,  0,  0,  0,  0,  0, 18,  0],\n",
       "       [ 0,  0,  0,  0,  0,  0,  0,  1, 38]], dtype=int64)"
      ]
     },
     "execution_count": 15,
     "metadata": {},
     "output_type": "execute_result"
    }
   ],
   "source": [
    "confusion_matrix(targ1, en.argmax(dim=1))"
   ]
  },
  {
   "cell_type": "code",
   "execution_count": 16,
   "id": "694fd1fc",
   "metadata": {},
   "outputs": [
    {
     "data": {
      "text/plain": [
       "array([[26,  0,  0,  0,  0,  1,  0,  1,  0],\n",
       "       [ 0, 19,  2,  1,  0,  1,  5,  2,  1],\n",
       "       [ 0,  0, 21,  1,  0,  5,  2,  1,  0],\n",
       "       [ 0,  1,  0, 24,  0,  2,  2,  5,  1],\n",
       "       [ 0,  1,  0,  1, 11,  6,  0,  0,  0],\n",
       "       [ 0,  1,  1,  1,  0, 39,  0,  0,  1],\n",
       "       [ 0,  9,  0,  0,  0,  0, 52,  4,  5],\n",
       "       [ 0,  0,  0,  2,  0,  2,  2, 12,  1],\n",
       "       [ 0,  2,  1,  4,  1,  3,  5,  4, 19]], dtype=int64)"
      ]
     },
     "execution_count": 16,
     "metadata": {},
     "output_type": "execute_result"
    }
   ],
   "source": [
    "confusion_matrix(targ1, pred5.argmax(dim=1))"
   ]
  },
  {
   "cell_type": "code",
   "execution_count": 17,
   "id": "e921cfe5",
   "metadata": {},
   "outputs": [],
   "source": [
    "a = classification_report(targ1, pred1.argmax(dim=1).numpy(), target_names=list(dls.vocab), output_dict=True)"
   ]
  },
  {
   "cell_type": "code",
   "execution_count": 18,
   "id": "dff1e75c",
   "metadata": {},
   "outputs": [
    {
     "data": {
      "text/html": [
       "<div>\n",
       "<style scoped>\n",
       "    .dataframe tbody tr th:only-of-type {\n",
       "        vertical-align: middle;\n",
       "    }\n",
       "\n",
       "    .dataframe tbody tr th {\n",
       "        vertical-align: top;\n",
       "    }\n",
       "\n",
       "    .dataframe thead th {\n",
       "        text-align: right;\n",
       "    }\n",
       "</style>\n",
       "<table border=\"1\" class=\"dataframe\">\n",
       "  <thead>\n",
       "    <tr style=\"text-align: right;\">\n",
       "      <th></th>\n",
       "      <th>precision</th>\n",
       "      <th>recall</th>\n",
       "      <th>f1-score</th>\n",
       "      <th>support</th>\n",
       "    </tr>\n",
       "  </thead>\n",
       "  <tbody>\n",
       "    <tr>\n",
       "      <th>(g)M</th>\n",
       "      <td>1.000000</td>\n",
       "      <td>1.000000</td>\n",
       "      <td>1.000000</td>\n",
       "      <td>28.000000</td>\n",
       "    </tr>\n",
       "    <tr>\n",
       "      <th>(g)S</th>\n",
       "      <td>0.968750</td>\n",
       "      <td>1.000000</td>\n",
       "      <td>0.984127</td>\n",
       "      <td>31.000000</td>\n",
       "    </tr>\n",
       "    <tr>\n",
       "      <th>(g)mS</th>\n",
       "      <td>0.935484</td>\n",
       "      <td>0.966667</td>\n",
       "      <td>0.950820</td>\n",
       "      <td>30.000000</td>\n",
       "    </tr>\n",
       "    <tr>\n",
       "      <th>M</th>\n",
       "      <td>0.897436</td>\n",
       "      <td>1.000000</td>\n",
       "      <td>0.945946</td>\n",
       "      <td>35.000000</td>\n",
       "    </tr>\n",
       "    <tr>\n",
       "      <th>S</th>\n",
       "      <td>1.000000</td>\n",
       "      <td>0.894737</td>\n",
       "      <td>0.944444</td>\n",
       "      <td>19.000000</td>\n",
       "    </tr>\n",
       "    <tr>\n",
       "      <th>gM</th>\n",
       "      <td>1.000000</td>\n",
       "      <td>0.930233</td>\n",
       "      <td>0.963855</td>\n",
       "      <td>43.000000</td>\n",
       "    </tr>\n",
       "    <tr>\n",
       "      <th>gS</th>\n",
       "      <td>1.000000</td>\n",
       "      <td>0.971429</td>\n",
       "      <td>0.985507</td>\n",
       "      <td>70.000000</td>\n",
       "    </tr>\n",
       "    <tr>\n",
       "      <th>gmS</th>\n",
       "      <td>0.900000</td>\n",
       "      <td>0.947368</td>\n",
       "      <td>0.923077</td>\n",
       "      <td>19.000000</td>\n",
       "    </tr>\n",
       "    <tr>\n",
       "      <th>mS</th>\n",
       "      <td>1.000000</td>\n",
       "      <td>1.000000</td>\n",
       "      <td>1.000000</td>\n",
       "      <td>39.000000</td>\n",
       "    </tr>\n",
       "    <tr>\n",
       "      <th>accuracy</th>\n",
       "      <td>0.971338</td>\n",
       "      <td>0.971338</td>\n",
       "      <td>0.971338</td>\n",
       "      <td>0.971338</td>\n",
       "    </tr>\n",
       "    <tr>\n",
       "      <th>macro avg</th>\n",
       "      <td>0.966852</td>\n",
       "      <td>0.967826</td>\n",
       "      <td>0.966420</td>\n",
       "      <td>314.000000</td>\n",
       "    </tr>\n",
       "    <tr>\n",
       "      <th>weighted avg</th>\n",
       "      <td>0.973268</td>\n",
       "      <td>0.971338</td>\n",
       "      <td>0.971512</td>\n",
       "      <td>314.000000</td>\n",
       "    </tr>\n",
       "  </tbody>\n",
       "</table>\n",
       "</div>"
      ],
      "text/plain": [
       "              precision    recall  f1-score     support\n",
       "(g)M           1.000000  1.000000  1.000000   28.000000\n",
       "(g)S           0.968750  1.000000  0.984127   31.000000\n",
       "(g)mS          0.935484  0.966667  0.950820   30.000000\n",
       "M              0.897436  1.000000  0.945946   35.000000\n",
       "S              1.000000  0.894737  0.944444   19.000000\n",
       "gM             1.000000  0.930233  0.963855   43.000000\n",
       "gS             1.000000  0.971429  0.985507   70.000000\n",
       "gmS            0.900000  0.947368  0.923077   19.000000\n",
       "mS             1.000000  1.000000  1.000000   39.000000\n",
       "accuracy       0.971338  0.971338  0.971338    0.971338\n",
       "macro avg      0.966852  0.967826  0.966420  314.000000\n",
       "weighted avg   0.973268  0.971338  0.971512  314.000000"
      ]
     },
     "execution_count": 18,
     "metadata": {},
     "output_type": "execute_result"
    }
   ],
   "source": [
    "stacked = np.stack([pred1.numpy(), pred2.numpy(), pred3.numpy(), \n",
    "                 pred4.numpy(), pred5.numpy(), pred6.numpy()])\n",
    "\n",
    "maxi = np.max(stacked, axis=0)\n",
    "a = classification_report(targ1, np.argmax(maxi, axis=1), target_names=list(dls.vocab), output_dict=True)\n",
    "aa =  pd.DataFrame(a)\n",
    "aa.transpose()"
   ]
  },
  {
   "cell_type": "code",
   "execution_count": 19,
   "id": "8a67f474",
   "metadata": {},
   "outputs": [
    {
     "name": "stdout",
     "output_type": "stream",
     "text": [
      "Kappa, 0.9670709966092215\n",
      "F1, 0.9664196264210005\n"
     ]
    }
   ],
   "source": [
    "print(f'Kappa, {f1(torch.from_numpy(maxi).argmax(axis=1), targ1)}')\n",
    "print(f'F1, {f2(torch.from_numpy(maxi).argmax(axis=1), targ1)}')"
   ]
  },
  {
   "cell_type": "code",
   "execution_count": 20,
   "id": "009c55b5",
   "metadata": {},
   "outputs": [
    {
     "data": {
      "text/plain": [
       "(6, 314, 9)"
      ]
     },
     "execution_count": 20,
     "metadata": {},
     "output_type": "execute_result"
    }
   ],
   "source": [
    "stacked.shape"
   ]
  },
  {
   "cell_type": "code",
   "execution_count": 21,
   "id": "16f54af9",
   "metadata": {
    "scrolled": true
   },
   "outputs": [
    {
     "data": {
      "text/html": [
       "<div>\n",
       "<style scoped>\n",
       "    .dataframe tbody tr th:only-of-type {\n",
       "        vertical-align: middle;\n",
       "    }\n",
       "\n",
       "    .dataframe tbody tr th {\n",
       "        vertical-align: top;\n",
       "    }\n",
       "\n",
       "    .dataframe thead th {\n",
       "        text-align: right;\n",
       "    }\n",
       "</style>\n",
       "<table border=\"1\" class=\"dataframe\">\n",
       "  <thead>\n",
       "    <tr style=\"text-align: right;\">\n",
       "      <th></th>\n",
       "      <th>precision</th>\n",
       "      <th>recall</th>\n",
       "      <th>f1-score</th>\n",
       "      <th>support</th>\n",
       "    </tr>\n",
       "  </thead>\n",
       "  <tbody>\n",
       "    <tr>\n",
       "      <th>(g)M</th>\n",
       "      <td>1.000000</td>\n",
       "      <td>1.000000</td>\n",
       "      <td>1.000000</td>\n",
       "      <td>28.000000</td>\n",
       "    </tr>\n",
       "    <tr>\n",
       "      <th>(g)S</th>\n",
       "      <td>0.968750</td>\n",
       "      <td>1.000000</td>\n",
       "      <td>0.984127</td>\n",
       "      <td>31.000000</td>\n",
       "    </tr>\n",
       "    <tr>\n",
       "      <th>(g)mS</th>\n",
       "      <td>0.967742</td>\n",
       "      <td>1.000000</td>\n",
       "      <td>0.983607</td>\n",
       "      <td>30.000000</td>\n",
       "    </tr>\n",
       "    <tr>\n",
       "      <th>M</th>\n",
       "      <td>0.921053</td>\n",
       "      <td>1.000000</td>\n",
       "      <td>0.958904</td>\n",
       "      <td>35.000000</td>\n",
       "    </tr>\n",
       "    <tr>\n",
       "      <th>S</th>\n",
       "      <td>1.000000</td>\n",
       "      <td>0.894737</td>\n",
       "      <td>0.944444</td>\n",
       "      <td>19.000000</td>\n",
       "    </tr>\n",
       "    <tr>\n",
       "      <th>gM</th>\n",
       "      <td>1.000000</td>\n",
       "      <td>0.953488</td>\n",
       "      <td>0.976190</td>\n",
       "      <td>43.000000</td>\n",
       "    </tr>\n",
       "    <tr>\n",
       "      <th>gS</th>\n",
       "      <td>0.985507</td>\n",
       "      <td>0.971429</td>\n",
       "      <td>0.978417</td>\n",
       "      <td>70.000000</td>\n",
       "    </tr>\n",
       "    <tr>\n",
       "      <th>gmS</th>\n",
       "      <td>0.857143</td>\n",
       "      <td>0.947368</td>\n",
       "      <td>0.900000</td>\n",
       "      <td>19.000000</td>\n",
       "    </tr>\n",
       "    <tr>\n",
       "      <th>mS</th>\n",
       "      <td>1.000000</td>\n",
       "      <td>0.948718</td>\n",
       "      <td>0.973684</td>\n",
       "      <td>39.000000</td>\n",
       "    </tr>\n",
       "    <tr>\n",
       "      <th>accuracy</th>\n",
       "      <td>0.971338</td>\n",
       "      <td>0.971338</td>\n",
       "      <td>0.971338</td>\n",
       "      <td>0.971338</td>\n",
       "    </tr>\n",
       "    <tr>\n",
       "      <th>macro avg</th>\n",
       "      <td>0.966688</td>\n",
       "      <td>0.968416</td>\n",
       "      <td>0.966597</td>\n",
       "      <td>314.000000</td>\n",
       "    </tr>\n",
       "    <tr>\n",
       "      <th>weighted avg</th>\n",
       "      <td>0.973158</td>\n",
       "      <td>0.971338</td>\n",
       "      <td>0.971533</td>\n",
       "      <td>314.000000</td>\n",
       "    </tr>\n",
       "  </tbody>\n",
       "</table>\n",
       "</div>"
      ],
      "text/plain": [
       "              precision    recall  f1-score     support\n",
       "(g)M           1.000000  1.000000  1.000000   28.000000\n",
       "(g)S           0.968750  1.000000  0.984127   31.000000\n",
       "(g)mS          0.967742  1.000000  0.983607   30.000000\n",
       "M              0.921053  1.000000  0.958904   35.000000\n",
       "S              1.000000  0.894737  0.944444   19.000000\n",
       "gM             1.000000  0.953488  0.976190   43.000000\n",
       "gS             0.985507  0.971429  0.978417   70.000000\n",
       "gmS            0.857143  0.947368  0.900000   19.000000\n",
       "mS             1.000000  0.948718  0.973684   39.000000\n",
       "accuracy       0.971338  0.971338  0.971338    0.971338\n",
       "macro avg      0.966688  0.968416  0.966597  314.000000\n",
       "weighted avg   0.973158  0.971338  0.971533  314.000000"
      ]
     },
     "execution_count": 21,
     "metadata": {},
     "output_type": "execute_result"
    }
   ],
   "source": [
    "summ = np.sum(stacked, axis=0)\n",
    "a = classification_report(targ1, np.argmax(summ, axis=1), target_names=list(dls.vocab), output_dict=True)\n",
    "aa =  pd.DataFrame(a)\n",
    "aa.transpose()"
   ]
  },
  {
   "cell_type": "code",
   "execution_count": 22,
   "id": "f959f77b",
   "metadata": {},
   "outputs": [
    {
     "name": "stdout",
     "output_type": "stream",
     "text": [
      "Kappa, 0.9670637048087457\n",
      "F1, 0.9665971164934845\n"
     ]
    }
   ],
   "source": [
    "print(f'Kappa, {f1(torch.from_numpy(summ).argmax(axis=1), targ1)}')\n",
    "print(f'F1, {f2(torch.from_numpy(summ).argmax(axis=1), targ1)}')"
   ]
  },
  {
   "cell_type": "code",
   "execution_count": 23,
   "id": "dcf75344",
   "metadata": {},
   "outputs": [
    {
     "data": {
      "text/html": [
       "<div>\n",
       "<style scoped>\n",
       "    .dataframe tbody tr th:only-of-type {\n",
       "        vertical-align: middle;\n",
       "    }\n",
       "\n",
       "    .dataframe tbody tr th {\n",
       "        vertical-align: top;\n",
       "    }\n",
       "\n",
       "    .dataframe thead th {\n",
       "        text-align: right;\n",
       "    }\n",
       "</style>\n",
       "<table border=\"1\" class=\"dataframe\">\n",
       "  <thead>\n",
       "    <tr style=\"text-align: right;\">\n",
       "      <th></th>\n",
       "      <th>precision</th>\n",
       "      <th>recall</th>\n",
       "      <th>f1-score</th>\n",
       "      <th>support</th>\n",
       "    </tr>\n",
       "  </thead>\n",
       "  <tbody>\n",
       "    <tr>\n",
       "      <th>(g)M</th>\n",
       "      <td>1.000000</td>\n",
       "      <td>1.000000</td>\n",
       "      <td>1.000000</td>\n",
       "      <td>28.000000</td>\n",
       "    </tr>\n",
       "    <tr>\n",
       "      <th>(g)S</th>\n",
       "      <td>0.968750</td>\n",
       "      <td>1.000000</td>\n",
       "      <td>0.984127</td>\n",
       "      <td>31.000000</td>\n",
       "    </tr>\n",
       "    <tr>\n",
       "      <th>(g)mS</th>\n",
       "      <td>0.967742</td>\n",
       "      <td>1.000000</td>\n",
       "      <td>0.983607</td>\n",
       "      <td>30.000000</td>\n",
       "    </tr>\n",
       "    <tr>\n",
       "      <th>M</th>\n",
       "      <td>0.945946</td>\n",
       "      <td>1.000000</td>\n",
       "      <td>0.972222</td>\n",
       "      <td>35.000000</td>\n",
       "    </tr>\n",
       "    <tr>\n",
       "      <th>S</th>\n",
       "      <td>1.000000</td>\n",
       "      <td>0.947368</td>\n",
       "      <td>0.972973</td>\n",
       "      <td>19.000000</td>\n",
       "    </tr>\n",
       "    <tr>\n",
       "      <th>gM</th>\n",
       "      <td>1.000000</td>\n",
       "      <td>0.953488</td>\n",
       "      <td>0.976190</td>\n",
       "      <td>43.000000</td>\n",
       "    </tr>\n",
       "    <tr>\n",
       "      <th>gS</th>\n",
       "      <td>1.000000</td>\n",
       "      <td>0.971429</td>\n",
       "      <td>0.985507</td>\n",
       "      <td>70.000000</td>\n",
       "    </tr>\n",
       "    <tr>\n",
       "      <th>gmS</th>\n",
       "      <td>0.857143</td>\n",
       "      <td>0.947368</td>\n",
       "      <td>0.900000</td>\n",
       "      <td>19.000000</td>\n",
       "    </tr>\n",
       "    <tr>\n",
       "      <th>mS</th>\n",
       "      <td>1.000000</td>\n",
       "      <td>0.974359</td>\n",
       "      <td>0.987013</td>\n",
       "      <td>39.000000</td>\n",
       "    </tr>\n",
       "    <tr>\n",
       "      <th>accuracy</th>\n",
       "      <td>0.977707</td>\n",
       "      <td>0.977707</td>\n",
       "      <td>0.977707</td>\n",
       "      <td>0.977707</td>\n",
       "    </tr>\n",
       "    <tr>\n",
       "      <th>macro avg</th>\n",
       "      <td>0.971065</td>\n",
       "      <td>0.977113</td>\n",
       "      <td>0.973515</td>\n",
       "      <td>314.000000</td>\n",
       "    </tr>\n",
       "    <tr>\n",
       "      <th>weighted avg</th>\n",
       "      <td>0.979163</td>\n",
       "      <td>0.977707</td>\n",
       "      <td>0.977980</td>\n",
       "      <td>314.000000</td>\n",
       "    </tr>\n",
       "  </tbody>\n",
       "</table>\n",
       "</div>"
      ],
      "text/plain": [
       "              precision    recall  f1-score     support\n",
       "(g)M           1.000000  1.000000  1.000000   28.000000\n",
       "(g)S           0.968750  1.000000  0.984127   31.000000\n",
       "(g)mS          0.967742  1.000000  0.983607   30.000000\n",
       "M              0.945946  1.000000  0.972222   35.000000\n",
       "S              1.000000  0.947368  0.972973   19.000000\n",
       "gM             1.000000  0.953488  0.976190   43.000000\n",
       "gS             1.000000  0.971429  0.985507   70.000000\n",
       "gmS            0.857143  0.947368  0.900000   19.000000\n",
       "mS             1.000000  0.974359  0.987013   39.000000\n",
       "accuracy       0.977707  0.977707  0.977707    0.977707\n",
       "macro avg      0.971065  0.977113  0.973515  314.000000\n",
       "weighted avg   0.979163  0.977707  0.977980  314.000000"
      ]
     },
     "execution_count": 23,
     "metadata": {},
     "output_type": "execute_result"
    }
   ],
   "source": [
    "prd = np.prod(stacked, axis=0)\n",
    "a = classification_report(targ1, np.argmax(prd, axis=1), target_names=list(dls.vocab), output_dict=True)\n",
    "aa =  pd.DataFrame(a)\n",
    "aa.transpose()"
   ]
  },
  {
   "cell_type": "code",
   "execution_count": 24,
   "id": "dd4fb3cc",
   "metadata": {},
   "outputs": [
    {
     "name": "stdout",
     "output_type": "stream",
     "text": [
      "Kappa, 0.9743969061957624\n",
      "F1, 0.9735154940310559\n"
     ]
    }
   ],
   "source": [
    "print(f'Kappa, {f1(torch.from_numpy(prd).argmax(axis=1), targ1)}')\n",
    "print(f'F1, {f2(torch.from_numpy(prd).argmax(axis=1), targ1)}')"
   ]
  },
  {
   "cell_type": "code",
   "execution_count": 25,
   "id": "ba79201e",
   "metadata": {},
   "outputs": [],
   "source": [
    "full = '...\\\\full_image.png'\n",
    "\n",
    "test_data = PILImage.create(full)"
   ]
  },
  {
   "cell_type": "code",
   "execution_count": 26,
   "id": "c7c5b492",
   "metadata": {},
   "outputs": [
    {
     "data": {
      "text/plain": [
       "<AxesSubplot:>"
      ]
     },
     "execution_count": 26,
     "metadata": {},
     "output_type": "execute_result"
    },
    {
     "data": {
      "image/png": "[encoded data removed]",
      "text/plain": [
       "<Figure size 360x360 with 1 Axes>"
      ]
     },
     "metadata": {
      "needs_background": "light"
     },
     "output_type": "display_data"
    }
   ],
   "source": [
    "test_data.show()"
   ]
  },
  {
   "cell_type": "code",
   "execution_count": 27,
   "id": "ebdd77f4",
   "metadata": {},
   "outputs": [
    {
     "data": {
      "text/plain": [
       "torch.Size([2860, 3006, 32, 32, 3])"
      ]
     },
     "execution_count": 27,
     "metadata": {},
     "output_type": "execute_result"
    }
   ],
   "source": [
    "patch = patchify(np.array(test_data), (32, 32, 3), step=1)\n",
    "patches = patch\n",
    "patches = torch.from_numpy(patches).squeeze(2)\n",
    "patches.shape"
   ]
  },
  {
   "cell_type": "code",
   "execution_count": 28,
   "id": "a8cde5f7",
   "metadata": {},
   "outputs": [],
   "source": [
    "def k(x):\n",
    "    i = sk.sigmf(x, 0, -2)\n",
    "    y = sk.sigmf(x, 0, 2)\n",
    "    return np.maximum(i, y) #i + y - (i * y)\n",
    "\n",
    "def ranks_np (x):    \n",
    "    i = np.apply_along_axis(k, axis=1, arr=x)    \n",
    "    return i #fuzzy ranks\n",
    "\n",
    "def ensemble_(probs, acc, alpha=2): \n",
    "    fuse_score = np.empty(probs[0].shape) #empty tensor of size row x column as prediction size\n",
    "    total_acc = sum(acc) #sum of all accuracies\n",
    "\n",
    "    rank = [ranks_np(prob) for prob in probs]\n",
    "    for i in range(fuse_score.shape[0]):\n",
    "        vals = [] #empty set to hold a list of 1d tensor values\n",
    "        assert len(probs) == len(acc), f'Length(model predictions): {len(probs)} is not equal to Length(accuracies): {len(acc)}'\n",
    "        for value in zip(rank, acc):\n",
    "            cal = np.power((value[1] / total_acc) * (value[0][i] - 0.5), alpha) #calc values for rank rows using the accuracy\n",
    "            vals.append(cal)\n",
    "        sum_ = sum(vals) #sum all values for \n",
    "        pr = 0.5 + np.power(sum_, 1 / alpha) #\n",
    "        fuse_score[i: ] = pr\n",
    "    return fuse_score\n"
   ]
  },
  {
   "cell_type": "code",
   "execution_count": 29,
   "id": "d0426f75",
   "metadata": {},
   "outputs": [],
   "source": [
    "def predictions(lrn, pat):\n",
    "    pred = []\n",
    "\n",
    "    with lrn[0].no_bar():\n",
    "     with lrn[1].no_bar():\n",
    "      with lrn[2].no_bar():\n",
    "       with lrn[3].no_bar():\n",
    "        with lrn[4].no_bar():\n",
    "         with lrn[5].no_bar():   \n",
    "           for count, i in tqdm(enumerate(range(pat.shape[0])), total=pat.shape[0]):\n",
    "            patches_a = pat[i, :, :, :, :]\n",
    "            \n",
    "            test_dl1 = lrn[0].dls.test_dl(patches_a, bs=500)\n",
    "            test_dl2 = lrn[1].dls.test_dl(patches_a, bs=500)\n",
    "            test_dl3 = lrn[2].dls.test_dl(patches_a, bs=500)\n",
    "            test_dl4 = lrn[3].dls.test_dl(patches_a, bs=500)\n",
    "            test_dl5 = lrn[4].dls.test_dl(patches_a, bs=500)\n",
    "            test_dl6 = lrn[5].dls.test_dl(patches_a, bs=500)\n",
    "            \n",
    "            preds1, _ = lrn[0].get_preds(dl=test_dl1)\n",
    "            preds2, _ = lrn[1].get_preds(dl=test_dl2)\n",
    "            preds3, _ = lrn[2].get_preds(dl=test_dl3)\n",
    "            preds4, _ = lrn[3].get_preds(dl=test_dl4)\n",
    "            preds5, _ = lrn[4].get_preds(dl=test_dl5)\n",
    "            preds6, _ = lrn[5].get_preds(dl=test_dl6)\n",
    "\n",
    "            p = [preds1, preds2, preds3, preds4, preds5, preds6]\n",
    "            acc_list = [0.9140, 0.9554, 0.9236, 0.8185, 0.7102, 0.9459]\n",
    "            en = ensemble_(p, acc_list, alpha=1)\n",
    "            en = np.argmax(en, axis=1)\n",
    "\n",
    "     \n",
    "\n",
    "    return np.array(pred)"
   ]
  },
  {
   "cell_type": "code",
   "execution_count": null,
   "id": "d06c780f",
   "metadata": {},
   "outputs": [],
   "source": [
    "plt.imshow(pp)"
   ]
  },
  {
   "cell_type": "code",
   "execution_count": null,
   "id": "1630255a",
   "metadata": {},
   "outputs": [],
   "source": [
    "PILImage.save(PILImage.create(pp.astype(np.uint8)), 'E:\\\\Multiclassifier\\\\inf_images\\\\proposed.png', dpi=(300, 300))\n",
    "tiff.imwrite('E:\\\\Multiclassifier\\\\inf_images\\\\proposed.tif', pp.astype(np.float32))"
   ]
  },
  {
   "cell_type": "code",
   "execution_count": null,
   "id": "c12ea476",
   "metadata": {},
   "outputs": [],
   "source": []
  },
  {
   "cell_type": "code",
   "execution_count": null,
   "id": "5506a291",
   "metadata": {},
   "outputs": [],
   "source": []
  },
  {
   "cell_type": "code",
   "execution_count": null,
   "id": "0747167c",
   "metadata": {},
   "outputs": [],
   "source": []
  }
 ],
 "metadata": {
  "celltoolbar": "Slideshow",
  "kernelspec": {
   "display_name": "Python 3 (ipykernel)",
   "language": "python",
   "name": "python3"
  },
  "language_info": {
   "codemirror_mode": {
    "name": "ipython",
    "version": 3
   },
   "file_extension": ".py",
   "mimetype": "text/x-python",
   "name": "python",
   "nbconvert_exporter": "python",
   "pygments_lexer": "ipython3",
   "version": "3.9.12"
  },
  "varInspector": {
   "cols": {
    "lenName": 16,
    "lenType": 16,
    "lenVar": 40
   },
   "kernels_config": {
    "python": {
     "delete_cmd_postfix": "",
     "delete_cmd_prefix": "del ",
     "library": "var_list.py",
     "varRefreshCmd": "print(var_dic_list())"
    },
    "r": {
     "delete_cmd_postfix": ") ",
     "delete_cmd_prefix": "rm(",
     "library": "var_list.r",
     "varRefreshCmd": "cat(var_dic_list()) "
    }
   },
   "position": {
    "height": "342.85px",
    "left": "1149.2px",
    "right": "20px",
    "top": "120px",
    "width": "350px"
   },
   "types_to_exclude": [
    "module",
    "function",
    "builtin_function_or_method",
    "instance",
    "_Feature"
   ],
   "window_display": false
  },
  "widgets": {
   "application/vnd.jupyter.widget-state+json": {
    "state": {},
    "version_major": 2,
    "version_minor": 0
   }
  }
 },
 "nbformat": 4,
 "nbformat_minor": 5
}
